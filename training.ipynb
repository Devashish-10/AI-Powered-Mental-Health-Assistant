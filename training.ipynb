{
 "cells": [
  {
   "cell_type": "code",
   "execution_count": 1,
   "metadata": {},
   "outputs": [
    {
     "name": "stderr",
     "output_type": "stream",
     "text": [
      "C:\\Users\\Devashish Uniyal\\AppData\\Roaming\\Python\\Python310\\site-packages\\tqdm\\auto.py:21: TqdmWarning: IProgress not found. Please update jupyter and ipywidgets. See https://ipywidgets.readthedocs.io/en/stable/user_install.html\n",
      "  from .autonotebook import tqdm as notebook_tqdm\n"
     ]
    }
   ],
   "source": [
    "import pandas as pd\n",
    "import torch\n",
    "import re\n",
    "from transformers import GPT2Tokenizer, GPT2LMHeadModel, Trainer, TrainingArguments\n",
    "from torch.utils.data import Dataset"
   ]
  },
  {
   "cell_type": "code",
   "execution_count": 2,
   "metadata": {},
   "outputs": [
    {
     "data": {
      "text/html": [
       "<div>\n",
       "<style scoped>\n",
       "    .dataframe tbody tr th:only-of-type {\n",
       "        vertical-align: middle;\n",
       "    }\n",
       "\n",
       "    .dataframe tbody tr th {\n",
       "        vertical-align: top;\n",
       "    }\n",
       "\n",
       "    .dataframe thead th {\n",
       "        text-align: right;\n",
       "    }\n",
       "</style>\n",
       "<table border=\"1\" class=\"dataframe\">\n",
       "  <thead>\n",
       "    <tr style=\"text-align: right;\">\n",
       "      <th></th>\n",
       "      <th>Context</th>\n",
       "      <th>Response</th>\n",
       "    </tr>\n",
       "  </thead>\n",
       "  <tbody>\n",
       "    <tr>\n",
       "      <th>0</th>\n",
       "      <td>I'm going through some things with my feelings...</td>\n",
       "      <td>If everyone thinks you're worthless, then mayb...</td>\n",
       "    </tr>\n",
       "    <tr>\n",
       "      <th>1</th>\n",
       "      <td>I'm going through some things with my feelings...</td>\n",
       "      <td>Hello, and thank you for your question and see...</td>\n",
       "    </tr>\n",
       "    <tr>\n",
       "      <th>2</th>\n",
       "      <td>I'm going through some things with my feelings...</td>\n",
       "      <td>First thing I'd suggest is getting the sleep y...</td>\n",
       "    </tr>\n",
       "    <tr>\n",
       "      <th>3</th>\n",
       "      <td>I'm going through some things with my feelings...</td>\n",
       "      <td>Therapy is essential for those that are feelin...</td>\n",
       "    </tr>\n",
       "    <tr>\n",
       "      <th>4</th>\n",
       "      <td>I'm going through some things with my feelings...</td>\n",
       "      <td>I first want to let you know that you are not ...</td>\n",
       "    </tr>\n",
       "  </tbody>\n",
       "</table>\n",
       "</div>"
      ],
      "text/plain": [
       "                                             Context  \\\n",
       "0  I'm going through some things with my feelings...   \n",
       "1  I'm going through some things with my feelings...   \n",
       "2  I'm going through some things with my feelings...   \n",
       "3  I'm going through some things with my feelings...   \n",
       "4  I'm going through some things with my feelings...   \n",
       "\n",
       "                                            Response  \n",
       "0  If everyone thinks you're worthless, then mayb...  \n",
       "1  Hello, and thank you for your question and see...  \n",
       "2  First thing I'd suggest is getting the sleep y...  \n",
       "3  Therapy is essential for those that are feelin...  \n",
       "4  I first want to let you know that you are not ...  "
      ]
     },
     "execution_count": 2,
     "metadata": {},
     "output_type": "execute_result"
    }
   ],
   "source": [
    "# Loading our dataset\n",
    "df = pd.read_csv(\"train.csv\")\n",
    "df.head()"
   ]
  },
  {
   "cell_type": "code",
   "execution_count": 3,
   "metadata": {},
   "outputs": [
    {
     "data": {
      "text/html": [
       "<div>\n",
       "<style scoped>\n",
       "    .dataframe tbody tr th:only-of-type {\n",
       "        vertical-align: middle;\n",
       "    }\n",
       "\n",
       "    .dataframe tbody tr th {\n",
       "        vertical-align: top;\n",
       "    }\n",
       "\n",
       "    .dataframe thead th {\n",
       "        text-align: right;\n",
       "    }\n",
       "</style>\n",
       "<table border=\"1\" class=\"dataframe\">\n",
       "  <thead>\n",
       "    <tr style=\"text-align: right;\">\n",
       "      <th></th>\n",
       "      <th>Context</th>\n",
       "      <th>Response</th>\n",
       "      <th>Cleaned_Questions</th>\n",
       "      <th>Cleaned_Answers</th>\n",
       "    </tr>\n",
       "  </thead>\n",
       "  <tbody>\n",
       "    <tr>\n",
       "      <th>0</th>\n",
       "      <td>I'm going through some things with my feelings...</td>\n",
       "      <td>If everyone thinks you're worthless, then mayb...</td>\n",
       "      <td>im going through some things with my feelings ...</td>\n",
       "      <td>if everyone thinks youre worthless then maybe ...</td>\n",
       "    </tr>\n",
       "    <tr>\n",
       "      <th>1</th>\n",
       "      <td>I'm going through some things with my feelings...</td>\n",
       "      <td>Hello, and thank you for your question and see...</td>\n",
       "      <td>im going through some things with my feelings ...</td>\n",
       "      <td>hello and thank you for your question and seek...</td>\n",
       "    </tr>\n",
       "    <tr>\n",
       "      <th>2</th>\n",
       "      <td>I'm going through some things with my feelings...</td>\n",
       "      <td>First thing I'd suggest is getting the sleep y...</td>\n",
       "      <td>im going through some things with my feelings ...</td>\n",
       "      <td>first thing id suggest is getting the sleep yo...</td>\n",
       "    </tr>\n",
       "    <tr>\n",
       "      <th>3</th>\n",
       "      <td>I'm going through some things with my feelings...</td>\n",
       "      <td>Therapy is essential for those that are feelin...</td>\n",
       "      <td>im going through some things with my feelings ...</td>\n",
       "      <td>therapy is essential for those that are feelin...</td>\n",
       "    </tr>\n",
       "    <tr>\n",
       "      <th>4</th>\n",
       "      <td>I'm going through some things with my feelings...</td>\n",
       "      <td>I first want to let you know that you are not ...</td>\n",
       "      <td>im going through some things with my feelings ...</td>\n",
       "      <td>i first want to let you know that you are not ...</td>\n",
       "    </tr>\n",
       "  </tbody>\n",
       "</table>\n",
       "</div>"
      ],
      "text/plain": [
       "                                             Context  \\\n",
       "0  I'm going through some things with my feelings...   \n",
       "1  I'm going through some things with my feelings...   \n",
       "2  I'm going through some things with my feelings...   \n",
       "3  I'm going through some things with my feelings...   \n",
       "4  I'm going through some things with my feelings...   \n",
       "\n",
       "                                            Response  \\\n",
       "0  If everyone thinks you're worthless, then mayb...   \n",
       "1  Hello, and thank you for your question and see...   \n",
       "2  First thing I'd suggest is getting the sleep y...   \n",
       "3  Therapy is essential for those that are feelin...   \n",
       "4  I first want to let you know that you are not ...   \n",
       "\n",
       "                                   Cleaned_Questions  \\\n",
       "0  im going through some things with my feelings ...   \n",
       "1  im going through some things with my feelings ...   \n",
       "2  im going through some things with my feelings ...   \n",
       "3  im going through some things with my feelings ...   \n",
       "4  im going through some things with my feelings ...   \n",
       "\n",
       "                                     Cleaned_Answers  \n",
       "0  if everyone thinks youre worthless then maybe ...  \n",
       "1  hello and thank you for your question and seek...  \n",
       "2  first thing id suggest is getting the sleep yo...  \n",
       "3  therapy is essential for those that are feelin...  \n",
       "4  i first want to let you know that you are not ...  "
      ]
     },
     "execution_count": 3,
     "metadata": {},
     "output_type": "execute_result"
    }
   ],
   "source": [
    "import re\n",
    "\n",
    "# Functioning to clean text\n",
    "def clean_text(text):\n",
    "    if isinstance(text, str):  \n",
    "        text = text.lower()\n",
    "        text = re.sub(r\"[^a-zA-Z0-9\\s]\", \"\", text)  \n",
    "    return text\n",
    "\n",
    "# Appling the function to clean the 'Context' and 'Response' columns\n",
    "df[\"Cleaned_Questions\"] = df[\"Context\"].apply(clean_text)\n",
    "df[\"Cleaned_Answers\"] = df[\"Response\"].apply(clean_text)\n",
    "\n",
    "# Displaying processed data\n",
    "df.head()"
   ]
  },
  {
   "cell_type": "code",
   "execution_count": 4,
   "metadata": {},
   "outputs": [
    {
     "data": {
      "text/plain": [
       "0    im going through some things with my feelings ...\n",
       "1    im going through some things with my feelings ...\n",
       "2    im going through some things with my feelings ...\n",
       "3    im going through some things with my feelings ...\n",
       "4    im going through some things with my feelings ...\n",
       "Name: Formatted_Text, dtype: object"
      ]
     },
     "execution_count": 4,
     "metadata": {},
     "output_type": "execute_result"
    }
   ],
   "source": [
    "# Loading GPT-2 tokenizer\n",
    "tokenizer = GPT2Tokenizer.from_pretrained(\"gpt2\")\n",
    "\n",
    "# Adding special tokens\n",
    "tokenizer.add_special_tokens({\"sep_token\": \"[SEP]\", \"pad_token\": \"[PAD]\"})  \n",
    "\n",
    "# Formating dataset as \"question [SEP] answer\"\n",
    "df[\"Formatted_Text\"] = df[\"Cleaned_Questions\"] + \" [SEP] \" + df[\"Cleaned_Answers\"]\n",
    "\n",
    "df[\"Formatted_Text\"] = df[\"Formatted_Text\"].fillna(\"\")\n",
    "\n",
    "df[\"Formatted_Text\"] = df[\"Formatted_Text\"].astype(str)\n",
    "\n",
    "# Check for the first few rows of the cleaned column\n",
    "df[\"Formatted_Text\"].head()\n"
   ]
  },
  {
   "cell_type": "code",
   "execution_count": 5,
   "metadata": {},
   "outputs": [
    {
     "data": {
      "text/plain": [
       "dict_keys(['input_ids', 'attention_mask'])"
      ]
     },
     "execution_count": 5,
     "metadata": {},
     "output_type": "execute_result"
    }
   ],
   "source": [
    "# Tokenize dataset with proper padding\n",
    "encodings = tokenizer(\n",
    "    df[\"Formatted_Text\"].tolist(),\n",
    "    padding=True,  \n",
    "    truncation=True,\n",
    "    max_length=128,\n",
    "    return_tensors=\"pt\"\n",
    ")\n",
    "encodings.keys()"
   ]
  },
  {
   "cell_type": "code",
   "execution_count": 6,
   "metadata": {},
   "outputs": [],
   "source": [
    "class MentalHealthDataset(Dataset):\n",
    "    def __init__(self, encodings):\n",
    "        self.input_ids = encodings[\"input_ids\"]\n",
    "        self.attention_mask = encodings[\"attention_mask\"]\n",
    "        \n",
    "        # Labels are same as input_ids \n",
    "        self.labels = encodings[\"input_ids\"]  \n",
    "    \n",
    "    def __len__(self):\n",
    "        return len(self.input_ids)\n",
    "    \n",
    "    def __getitem__(self, idx):\n",
    "        return {\n",
    "            \"input_ids\": self.input_ids[idx],\n",
    "            \"attention_mask\": self.attention_mask[idx],\n",
    "            \"labels\": self.labels[idx], \n",
    "        }\n",
    "\n",
    "# Creating dataset with labels\n",
    "dataset = MentalHealthDataset(encodings)"
   ]
  },
  {
   "cell_type": "code",
   "execution_count": 7,
   "metadata": {},
   "outputs": [
    {
     "name": "stdout",
     "output_type": "stream",
     "text": [
      "Training: 2809, Validation: 351, Test: 352\n"
     ]
    }
   ],
   "source": [
    "train_size = int(0.8 * len(dataset))\n",
    "val_size = int(0.1 * len(dataset))\n",
    "test_size = len(dataset) - train_size - val_size\n",
    "\n",
    "train_dataset, val_dataset, test_dataset = torch.utils.data.random_split(dataset, [train_size, val_size, test_size])\n",
    "\n",
    "print(f\"Training: {len(train_dataset)}, Validation: {len(val_dataset)}, Test: {len(test_dataset)}\")"
   ]
  },
  {
   "cell_type": "code",
   "execution_count": 8,
   "metadata": {},
   "outputs": [
    {
     "name": "stderr",
     "output_type": "stream",
     "text": [
      "The new embeddings will be initialized from a multivariate normal distribution that has old embeddings' mean and covariance. As described in this article: https://nlp.stanford.edu/~johnhew/vocab-expansion.html. To disable this, use `mean_resizing=False`\n"
     ]
    },
    {
     "data": {
      "text/plain": [
       "Embedding(50259, 768)"
      ]
     },
     "execution_count": 8,
     "metadata": {},
     "output_type": "execute_result"
    }
   ],
   "source": [
    "# Loading GPT-2 model with text generation head\n",
    "model = GPT2LMHeadModel.from_pretrained(\"gpt2\")\n",
    "\n",
    "# Resizing our token embeddings \n",
    "model.resize_token_embeddings(len(tokenizer))"
   ]
  },
  {
   "cell_type": "code",
   "execution_count": 9,
   "metadata": {},
   "outputs": [
    {
     "name": "stderr",
     "output_type": "stream",
     "text": [
      "C:\\Users\\Devashish Uniyal\\AppData\\Roaming\\Python\\Python310\\site-packages\\transformers\\training_args.py:1568: FutureWarning: `evaluation_strategy` is deprecated and will be removed in version 4.46 of 🤗 Transformers. Use `eval_strategy` instead\n",
      "  warnings.warn(\n"
     ]
    }
   ],
   "source": [
    "# Define training arguments\n",
    "training_args = TrainingArguments(\n",
    "    output_dir=\"./gpt2_mental_health_128\",\n",
    "    evaluation_strategy=\"epoch\",\n",
    "    per_device_train_batch_size=10,\n",
    "    per_device_eval_batch_size=10,\n",
    "    num_train_epochs=25,\n",
    "    learning_rate=5e-5,\n",
    "    save_steps=500,\n",
    "    logging_dir=\"./logs\",\n",
    ")\n",
    "\n",
    "trainer = Trainer(\n",
    "    model=model,\n",
    "    args=training_args,\n",
    "    train_dataset=train_dataset,\n",
    "    eval_dataset=val_dataset,\n",
    ")\n"
   ]
  },
  {
   "cell_type": "code",
   "execution_count": 10,
   "metadata": {},
   "outputs": [
    {
     "name": "stderr",
     "output_type": "stream",
     "text": [
      "  0%|          | 0/7025 [00:00<?, ?it/s]C:\\Users\\Devashish Uniyal\\AppData\\Roaming\\Python\\Python310\\site-packages\\transformers\\models\\gpt2\\modeling_gpt2.py:545: UserWarning: 1Torch was not compiled with flash attention. (Triggered internally at ..\\aten\\src\\ATen\\native\\transformers\\cuda\\sdp_utils.cpp:455.)\n",
      "  attn_output = torch.nn.functional.scaled_dot_product_attention(\n",
      "                                                  \n",
      "  4%|▍         | 281/7025 [02:02<46:04,  2.44it/s]"
     ]
    },
    {
     "name": "stdout",
     "output_type": "stream",
     "text": [
      "{'eval_loss': 2.909649133682251, 'eval_runtime': 4.4267, 'eval_samples_per_second': 79.291, 'eval_steps_per_second': 8.132, 'epoch': 1.0}\n"
     ]
    },
    {
     "name": "stderr",
     "output_type": "stream",
     "text": [
      "  7%|▋         | 500/7025 [03:35<45:14,  2.40it/s]  "
     ]
    },
    {
     "name": "stdout",
     "output_type": "stream",
     "text": [
      "{'loss': 3.1847, 'grad_norm': 6.406774520874023, 'learning_rate': 4.644128113879004e-05, 'epoch': 1.78}\n"
     ]
    },
    {
     "name": "stderr",
     "output_type": "stream",
     "text": [
      "                                                    \n",
      "  8%|▊         | 562/7025 [04:09<43:54,  2.45it/s]"
     ]
    },
    {
     "name": "stdout",
     "output_type": "stream",
     "text": [
      "{'eval_loss': 2.632554054260254, 'eval_runtime': 4.434, 'eval_samples_per_second': 79.162, 'eval_steps_per_second': 8.119, 'epoch': 2.0}\n"
     ]
    },
    {
     "name": "stderr",
     "output_type": "stream",
     "text": [
      "                                                    \n",
      " 12%|█▏        | 843/7025 [06:13<42:25,  2.43it/s]"
     ]
    },
    {
     "name": "stdout",
     "output_type": "stream",
     "text": [
      "{'eval_loss': 2.4397201538085938, 'eval_runtime': 4.4412, 'eval_samples_per_second': 79.032, 'eval_steps_per_second': 8.106, 'epoch': 3.0}\n"
     ]
    },
    {
     "name": "stderr",
     "output_type": "stream",
     "text": [
      " 14%|█▍        | 1000/7025 [07:20<43:21,  2.32it/s] "
     ]
    },
    {
     "name": "stdout",
     "output_type": "stream",
     "text": [
      "{'loss': 2.4005, 'grad_norm': 5.478806972503662, 'learning_rate': 4.2882562277580074e-05, 'epoch': 3.56}\n"
     ]
    },
    {
     "name": "stderr",
     "output_type": "stream",
     "text": [
      "                                                     \n",
      " 16%|█▌        | 1124/7025 [08:22<40:33,  2.43it/s]"
     ]
    },
    {
     "name": "stdout",
     "output_type": "stream",
     "text": [
      "{'eval_loss': 2.284092664718628, 'eval_runtime': 4.5012, 'eval_samples_per_second': 77.979, 'eval_steps_per_second': 7.998, 'epoch': 4.0}\n"
     ]
    },
    {
     "name": "stderr",
     "output_type": "stream",
     "text": [
      "                                                     \n",
      " 20%|██        | 1405/7025 [10:26<38:37,  2.42it/s]"
     ]
    },
    {
     "name": "stdout",
     "output_type": "stream",
     "text": [
      "{'eval_loss': 2.1562869548797607, 'eval_runtime': 4.6253, 'eval_samples_per_second': 75.887, 'eval_steps_per_second': 7.783, 'epoch': 5.0}\n"
     ]
    },
    {
     "name": "stderr",
     "output_type": "stream",
     "text": [
      " 21%|██▏       | 1500/7025 [11:07<38:31,  2.39it/s]  "
     ]
    },
    {
     "name": "stdout",
     "output_type": "stream",
     "text": [
      "{'loss': 1.9827, 'grad_norm': 5.110204696655273, 'learning_rate': 3.932384341637011e-05, 'epoch': 5.34}\n"
     ]
    },
    {
     "name": "stderr",
     "output_type": "stream",
     "text": [
      "                                                     \n",
      " 24%|██▍       | 1686/7025 [12:37<37:55,  2.35it/s]"
     ]
    },
    {
     "name": "stdout",
     "output_type": "stream",
     "text": [
      "{'eval_loss': 2.0703060626983643, 'eval_runtime': 4.4608, 'eval_samples_per_second': 78.685, 'eval_steps_per_second': 8.07, 'epoch': 6.0}\n"
     ]
    },
    {
     "name": "stderr",
     "output_type": "stream",
     "text": [
      "                                                     \n",
      " 28%|██▊       | 1967/7025 [14:43<35:35,  2.37it/s]"
     ]
    },
    {
     "name": "stdout",
     "output_type": "stream",
     "text": [
      "{'eval_loss': 1.9929710626602173, 'eval_runtime': 4.422, 'eval_samples_per_second': 79.376, 'eval_steps_per_second': 8.141, 'epoch': 7.0}\n"
     ]
    },
    {
     "name": "stderr",
     "output_type": "stream",
     "text": [
      " 28%|██▊       | 2000/7025 [14:57<36:31,  2.29it/s]  "
     ]
    },
    {
     "name": "stdout",
     "output_type": "stream",
     "text": [
      "{'loss': 1.6913, 'grad_norm': 4.749814510345459, 'learning_rate': 3.5765124555160145e-05, 'epoch': 7.12}\n"
     ]
    },
    {
     "name": "stderr",
     "output_type": "stream",
     "text": [
      "                                                     \n",
      " 32%|███▏      | 2248/7025 [16:53<32:12,  2.47it/s]"
     ]
    },
    {
     "name": "stdout",
     "output_type": "stream",
     "text": [
      "{'eval_loss': 1.9318366050720215, 'eval_runtime': 4.5367, 'eval_samples_per_second': 77.368, 'eval_steps_per_second': 7.935, 'epoch': 8.0}\n"
     ]
    },
    {
     "name": "stderr",
     "output_type": "stream",
     "text": [
      " 36%|███▌      | 2500/7025 [18:39<31:26,  2.40it/s]  "
     ]
    },
    {
     "name": "stdout",
     "output_type": "stream",
     "text": [
      "{'loss': 1.4562, 'grad_norm': 4.715827465057373, 'learning_rate': 3.2206405693950184e-05, 'epoch': 8.9}\n"
     ]
    },
    {
     "name": "stderr",
     "output_type": "stream",
     "text": [
      "                                                     \n",
      " 36%|███▌      | 2529/7025 [19:02<30:57,  2.42it/s]"
     ]
    },
    {
     "name": "stdout",
     "output_type": "stream",
     "text": [
      "{'eval_loss': 1.8865810632705688, 'eval_runtime': 4.3914, 'eval_samples_per_second': 79.929, 'eval_steps_per_second': 8.198, 'epoch': 9.0}\n"
     ]
    },
    {
     "name": "stderr",
     "output_type": "stream",
     "text": [
      "                                                     \n",
      " 40%|████      | 2810/7025 [21:04<28:30,  2.46it/s]"
     ]
    },
    {
     "name": "stdout",
     "output_type": "stream",
     "text": [
      "{'eval_loss': 1.8367373943328857, 'eval_runtime': 4.3938, 'eval_samples_per_second': 79.885, 'eval_steps_per_second': 8.193, 'epoch': 10.0}\n"
     ]
    },
    {
     "name": "stderr",
     "output_type": "stream",
     "text": [
      " 43%|████▎     | 3000/7025 [22:25<29:57,  2.24it/s]  "
     ]
    },
    {
     "name": "stdout",
     "output_type": "stream",
     "text": [
      "{'loss': 1.2635, 'grad_norm': 4.20013952255249, 'learning_rate': 2.8647686832740217e-05, 'epoch': 10.68}\n"
     ]
    },
    {
     "name": "stderr",
     "output_type": "stream",
     "text": [
      "                                                     \n",
      " 44%|████▍     | 3091/7025 [23:14<27:21,  2.40it/s]"
     ]
    },
    {
     "name": "stdout",
     "output_type": "stream",
     "text": [
      "{'eval_loss': 1.8045817613601685, 'eval_runtime': 4.3794, 'eval_samples_per_second': 80.148, 'eval_steps_per_second': 8.22, 'epoch': 11.0}\n"
     ]
    },
    {
     "name": "stderr",
     "output_type": "stream",
     "text": [
      "                                                     \n",
      " 48%|████▊     | 3372/7025 [25:17<25:12,  2.41it/s]"
     ]
    },
    {
     "name": "stdout",
     "output_type": "stream",
     "text": [
      "{'eval_loss': 1.7691593170166016, 'eval_runtime': 4.3866, 'eval_samples_per_second': 80.016, 'eval_steps_per_second': 8.207, 'epoch': 12.0}\n"
     ]
    },
    {
     "name": "stderr",
     "output_type": "stream",
     "text": [
      " 50%|████▉     | 3500/7025 [26:11<23:59,  2.45it/s]  "
     ]
    },
    {
     "name": "stdout",
     "output_type": "stream",
     "text": [
      "{'loss': 1.1333, 'grad_norm': 4.360058784484863, 'learning_rate': 2.5088967971530253e-05, 'epoch': 12.46}\n"
     ]
    },
    {
     "name": "stderr",
     "output_type": "stream",
     "text": [
      "                                                     \n",
      " 52%|█████▏    | 3653/7025 [27:25<23:27,  2.40it/s]"
     ]
    },
    {
     "name": "stdout",
     "output_type": "stream",
     "text": [
      "{'eval_loss': 1.727948784828186, 'eval_runtime': 4.6888, 'eval_samples_per_second': 74.859, 'eval_steps_per_second': 7.678, 'epoch': 13.0}\n"
     ]
    },
    {
     "name": "stderr",
     "output_type": "stream",
     "text": [
      "                                                     \n",
      " 56%|█████▌    | 3934/7025 [29:28<22:15,  2.32it/s]"
     ]
    },
    {
     "name": "stdout",
     "output_type": "stream",
     "text": [
      "{'eval_loss': 1.6977049112319946, 'eval_runtime': 4.4631, 'eval_samples_per_second': 78.646, 'eval_steps_per_second': 8.066, 'epoch': 14.0}\n"
     ]
    },
    {
     "name": "stderr",
     "output_type": "stream",
     "text": [
      " 57%|█████▋    | 4000/7025 [29:57<22:10,  2.27it/s]  "
     ]
    },
    {
     "name": "stdout",
     "output_type": "stream",
     "text": [
      "{'loss': 1.0084, 'grad_norm': 3.80965518951416, 'learning_rate': 2.1530249110320285e-05, 'epoch': 14.23}\n"
     ]
    },
    {
     "name": "stderr",
     "output_type": "stream",
     "text": [
      "                                                     \n",
      " 60%|██████    | 4215/7025 [31:37<19:03,  2.46it/s]"
     ]
    },
    {
     "name": "stdout",
     "output_type": "stream",
     "text": [
      "{'eval_loss': 1.692505955696106, 'eval_runtime': 4.426, 'eval_samples_per_second': 79.303, 'eval_steps_per_second': 8.134, 'epoch': 15.0}\n"
     ]
    },
    {
     "name": "stderr",
     "output_type": "stream",
     "text": [
      "                                                     \n",
      " 64%|██████▍   | 4496/7025 [33:40<17:07,  2.46it/s]"
     ]
    },
    {
     "name": "stdout",
     "output_type": "stream",
     "text": [
      "{'eval_loss': 1.6680748462677002, 'eval_runtime': 4.3997, 'eval_samples_per_second': 79.778, 'eval_steps_per_second': 8.182, 'epoch': 16.0}\n"
     ]
    },
    {
     "name": "stderr",
     "output_type": "stream",
     "text": [
      " 64%|██████▍   | 4500/7025 [33:41<37:01,  1.14it/s]  "
     ]
    },
    {
     "name": "stdout",
     "output_type": "stream",
     "text": [
      "{'loss': 0.9199, 'grad_norm': 4.216216087341309, 'learning_rate': 1.797153024911032e-05, 'epoch': 16.01}\n"
     ]
    },
    {
     "name": "stderr",
     "output_type": "stream",
     "text": [
      "                                                     \n",
      " 68%|██████▊   | 4777/7025 [35:48<15:10,  2.47it/s]"
     ]
    },
    {
     "name": "stdout",
     "output_type": "stream",
     "text": [
      "{'eval_loss': 1.6251636743545532, 'eval_runtime': 4.4097, 'eval_samples_per_second': 79.598, 'eval_steps_per_second': 8.164, 'epoch': 17.0}\n"
     ]
    },
    {
     "name": "stderr",
     "output_type": "stream",
     "text": [
      " 71%|███████   | 5000/7025 [37:22<14:06,  2.39it/s]  "
     ]
    },
    {
     "name": "stdout",
     "output_type": "stream",
     "text": [
      "{'loss': 0.842, 'grad_norm': 3.5879926681518555, 'learning_rate': 1.4412811387900358e-05, 'epoch': 17.79}\n"
     ]
    },
    {
     "name": "stderr",
     "output_type": "stream",
     "text": [
      "                                                     \n",
      " 72%|███████▏  | 5058/7025 [37:58<13:39,  2.40it/s]"
     ]
    },
    {
     "name": "stdout",
     "output_type": "stream",
     "text": [
      "{'eval_loss': 1.6333122253417969, 'eval_runtime': 4.5205, 'eval_samples_per_second': 77.645, 'eval_steps_per_second': 7.964, 'epoch': 18.0}\n"
     ]
    },
    {
     "name": "stderr",
     "output_type": "stream",
     "text": [
      "                                                   \n",
      " 76%|███████▌  | 5339/7025 [40:00<11:42,  2.40it/s]"
     ]
    },
    {
     "name": "stdout",
     "output_type": "stream",
     "text": [
      "{'eval_loss': 1.6164740324020386, 'eval_runtime': 4.4356, 'eval_samples_per_second': 79.132, 'eval_steps_per_second': 8.116, 'epoch': 19.0}\n"
     ]
    },
    {
     "name": "stderr",
     "output_type": "stream",
     "text": [
      " 78%|███████▊  | 5500/7025 [41:08<10:32,  2.41it/s]"
     ]
    },
    {
     "name": "stdout",
     "output_type": "stream",
     "text": [
      "{'loss': 0.7934, 'grad_norm': 3.935336112976074, 'learning_rate': 1.0854092526690392e-05, 'epoch': 19.57}\n"
     ]
    },
    {
     "name": "stderr",
     "output_type": "stream",
     "text": [
      "                                                   \n",
      " 80%|████████  | 5620/7025 [42:08<09:44,  2.40it/s]"
     ]
    },
    {
     "name": "stdout",
     "output_type": "stream",
     "text": [
      "{'eval_loss': 1.6075870990753174, 'eval_runtime': 4.3428, 'eval_samples_per_second': 80.823, 'eval_steps_per_second': 8.29, 'epoch': 20.0}\n"
     ]
    },
    {
     "name": "stderr",
     "output_type": "stream",
     "text": [
      "                                                   \n",
      " 84%|████████▍ | 5901/7025 [44:10<07:55,  2.36it/s]"
     ]
    },
    {
     "name": "stdout",
     "output_type": "stream",
     "text": [
      "{'eval_loss': 1.599441409111023, 'eval_runtime': 4.3574, 'eval_samples_per_second': 80.552, 'eval_steps_per_second': 8.262, 'epoch': 21.0}\n"
     ]
    },
    {
     "name": "stderr",
     "output_type": "stream",
     "text": [
      " 85%|████████▌ | 6000/7025 [44:52<07:09,  2.39it/s]"
     ]
    },
    {
     "name": "stdout",
     "output_type": "stream",
     "text": [
      "{'loss': 0.7459, 'grad_norm': 3.536102771759033, 'learning_rate': 7.295373665480428e-06, 'epoch': 21.35}\n"
     ]
    },
    {
     "name": "stderr",
     "output_type": "stream",
     "text": [
      "                                                   \n",
      " 88%|████████▊ | 6182/7025 [46:19<05:38,  2.49it/s]"
     ]
    },
    {
     "name": "stdout",
     "output_type": "stream",
     "text": [
      "{'eval_loss': 1.5893869400024414, 'eval_runtime': 4.4165, 'eval_samples_per_second': 79.474, 'eval_steps_per_second': 8.151, 'epoch': 22.0}\n"
     ]
    },
    {
     "name": "stderr",
     "output_type": "stream",
     "text": [
      "                                                   \n",
      " 92%|█████████▏| 6463/7025 [48:22<03:54,  2.39it/s]"
     ]
    },
    {
     "name": "stdout",
     "output_type": "stream",
     "text": [
      "{'eval_loss': 1.5915857553482056, 'eval_runtime': 4.4087, 'eval_samples_per_second': 79.615, 'eval_steps_per_second': 8.166, 'epoch': 23.0}\n"
     ]
    },
    {
     "name": "stderr",
     "output_type": "stream",
     "text": [
      " 93%|█████████▎| 6500/7025 [48:39<03:46,  2.32it/s]"
     ]
    },
    {
     "name": "stdout",
     "output_type": "stream",
     "text": [
      "{'loss': 0.7208, 'grad_norm': 3.684075355529785, 'learning_rate': 3.7366548042704624e-06, 'epoch': 23.13}\n"
     ]
    },
    {
     "name": "stderr",
     "output_type": "stream",
     "text": [
      "                                                   \n",
      " 96%|█████████▌| 6744/7025 [50:31<02:00,  2.34it/s]"
     ]
    },
    {
     "name": "stdout",
     "output_type": "stream",
     "text": [
      "{'eval_loss': 1.5823169946670532, 'eval_runtime': 4.402, 'eval_samples_per_second': 79.737, 'eval_steps_per_second': 8.178, 'epoch': 24.0}\n"
     ]
    },
    {
     "name": "stderr",
     "output_type": "stream",
     "text": [
      "100%|█████████▉| 7000/7025 [52:18<00:10,  2.38it/s]"
     ]
    },
    {
     "name": "stdout",
     "output_type": "stream",
     "text": [
      "{'loss': 0.7, 'grad_norm': 3.3347115516662598, 'learning_rate': 1.779359430604982e-07, 'epoch': 24.91}\n"
     ]
    },
    {
     "name": "stderr",
     "output_type": "stream",
     "text": [
      "                                                   \n",
      "100%|██████████| 7025/7025 [52:44<00:00,  2.22it/s]"
     ]
    },
    {
     "name": "stdout",
     "output_type": "stream",
     "text": [
      "{'eval_loss': 1.5847275257110596, 'eval_runtime': 4.5097, 'eval_samples_per_second': 77.831, 'eval_steps_per_second': 7.983, 'epoch': 25.0}\n",
      "{'train_runtime': 3164.1763, 'train_samples_per_second': 22.194, 'train_steps_per_second': 2.22, 'train_loss': 1.343723090772527, 'epoch': 25.0}\n"
     ]
    },
    {
     "name": "stderr",
     "output_type": "stream",
     "text": [
      "\n"
     ]
    },
    {
     "data": {
      "text/plain": [
       "TrainOutput(global_step=7025, training_loss=1.343723090772527, metrics={'train_runtime': 3164.1763, 'train_samples_per_second': 22.194, 'train_steps_per_second': 2.22, 'total_flos': 4587308236800000.0, 'train_loss': 1.343723090772527, 'epoch': 25.0})"
      ]
     },
     "execution_count": 10,
     "metadata": {},
     "output_type": "execute_result"
    }
   ],
   "source": [
    "trainer.train()"
   ]
  },
  {
   "cell_type": "code",
   "execution_count": null,
   "metadata": {},
   "outputs": [
    {
     "name": "stderr",
     "output_type": "stream",
     "text": [
      "100%|██████████| 36/36 [00:04<00:00,  8.20it/s]\n"
     ]
    },
    {
     "data": {
      "text/plain": [
       "{'eval_loss': 1.5453568696975708,\n",
       " 'eval_runtime': 4.4775,\n",
       " 'eval_samples_per_second': 78.615,\n",
       " 'eval_steps_per_second': 8.04,\n",
       " 'epoch': 25.0}"
      ]
     },
     "execution_count": 11,
     "metadata": {},
     "output_type": "execute_result"
    }
   ],
   "source": [
    "# Get the total size of the dataset\n",
    "dataset_size = len(test_dataset)\n",
    "\n",
    "# Set subset size \n",
    "subset_size = min(1000, dataset_size)\n",
    "\n",
    "# Create subset safely\n",
    "small_test_dataset = torch.utils.data.Subset(test_dataset, range(subset_size))\n",
    "\n",
    "# Run evaluation on the data\n",
    "trainer.evaluate(small_test_dataset)\n"
   ]
  },
  {
   "cell_type": "code",
   "execution_count": 12,
   "metadata": {},
   "outputs": [
    {
     "data": {
      "image/png": "[encoded data removed]",
      "text/plain": [
       "<Figure size 1200x500 with 1 Axes>"
      ]
     },
     "metadata": {},
     "output_type": "display_data"
    }
   ],
   "source": [
    "import matplotlib.pyplot as plt\n",
    "\n",
    "history = trainer.state.log_history\n",
    "train_data = [(log['epoch'], log['loss']) for log in history if 'loss' in log]\n",
    "eval_data = [(log['epoch'], log['eval_loss']) for log in history if 'eval_loss' in log]\n",
    "\n",
    "train_epochs, train_losses = zip(*train_data) if train_data else ([], [])\n",
    "eval_epochs, eval_losses = zip(*eval_data) if eval_data else ([], [])\n",
    "\n",
    "plt.figure(figsize=(12, 5))\n",
    "plt.plot(train_epochs, train_losses, 'b-o', label='Training Loss')\n",
    "plt.plot(eval_epochs, eval_losses, 'r-o', label='Validation Loss')\n",
    "plt.xlabel(\"Epoch\")\n",
    "plt.ylabel(\"Loss\")\n",
    "plt.title(\"Training vs Validation Loss\")\n",
    "plt.grid(True)\n",
    "plt.legend()\n",
    "plt.savefig(\"training_progress.png\", dpi=300)\n",
    "plt.show()\n"
   ]
  },
  {
   "cell_type": "code",
   "execution_count": 13,
   "metadata": {},
   "outputs": [
    {
     "name": "stderr",
     "output_type": "stream",
     "text": [
      "Using the latest cached version of the module from C:\\Users\\Devashish Uniyal\\.cache\\huggingface\\modules\\evaluate_modules\\metrics\\evaluate-metric--rouge\\b01e0accf3bd6dd24839b769a5fda24e14995071570870922c71970b3a6ed886 (last modified on Tue Apr  1 16:04:22 2025) since it couldn't be found locally at evaluate-metric--rouge, or remotely on the Hugging Face Hub.\n",
      "Using the latest cached version of the module from C:\\Users\\Devashish Uniyal\\.cache\\huggingface\\modules\\evaluate_modules\\metrics\\evaluate-metric--bleu\\9e0985c1200e367cce45605ce0ecb5ede079894e0f24f54613fca08eeb8aff76 (last modified on Tue Apr  1 16:04:26 2025) since it couldn't be found locally at evaluate-metric--bleu, or remotely on the Hugging Face Hub.\n"
     ]
    },
    {
     "name": "stdout",
     "output_type": "stream",
     "text": [
      "ROUGE Score: {'rouge1': 0.8313995056983627, 'rouge2': 0.8301604094959134, 'rougeL': 0.8315793303699427, 'rougeLsum': 0.8315305399155732}\n",
      "BLEU Score: {'bleu': 0.7137501249014199, 'precisions': [0.716464175009798, 0.7146749847621097, 0.7128630705394191, 0.7110098405897092], 'brevity_penalty': 1.0, 'length_ratio': 1.3955350039777248, 'translation_length': 56134, 'reference_length': 40224}\n"
     ]
    }
   ],
   "source": [
    "import evaluate\n",
    "\n",
    "# Load the ROUGE and BLEU metrics\n",
    "rouge = evaluate.load(\"rouge\")\n",
    "bleu = evaluate.load(\"bleu\")\n",
    "\n",
    "# Define a function for generating predictions\n",
    "def generate_predictions(model, tokenizer, dataset):\n",
    "    model.eval()\n",
    "    predictions = []\n",
    "    references = []\n",
    "    \n",
    "    for idx in range(len(dataset)):\n",
    "        input_ids = dataset[idx]['input_ids'].unsqueeze(0).to(model.device)  # Add batch dimension and move to device\n",
    "        attention_mask = dataset[idx]['attention_mask'].unsqueeze(0).to(model.device)\n",
    "        \n",
    "        # Generate prediction with explicit pad_token_id\n",
    "        outputs = model.generate(\n",
    "        input_ids=input_ids, \n",
    "        attention_mask=attention_mask, \n",
    "        max_new_tokens=50,  # Limit the number of new tokens generated\n",
    "        pad_token_id=tokenizer.eos_token_id  # Explicitly set the pad token ID\n",
    ")\n",
    "\n",
    "        pred_text = tokenizer.decode(outputs[0], skip_special_tokens=True)\n",
    "        \n",
    "        # Get the actual text from the dataset\n",
    "        target_text = tokenizer.decode(dataset[idx]['labels'], skip_special_tokens=True)\n",
    "        \n",
    "        predictions.append(pred_text)\n",
    "        references.append([target_text])  \n",
    "    \n",
    "    return predictions, references\n",
    "\n",
    "# Generate predictions and references\n",
    "predictions, references = generate_predictions(model, tokenizer, small_test_dataset)\n",
    "\n",
    "# Compute ROUGE and BLEU scores\n",
    "rouge_score = rouge.compute(predictions=predictions, references=references)\n",
    "bleu_score = bleu.compute(predictions=predictions, references=references)\n",
    "\n",
    "# Printing the scores\n",
    "print(\"ROUGE Score:\", rouge_score)\n",
    "print(\"BLEU Score:\", bleu_score)"
   ]
  },
  {
   "cell_type": "code",
   "execution_count": 14,
   "metadata": {},
   "outputs": [
    {
     "name": "stdout",
     "output_type": "stream",
     "text": [
      "Model and tokenizer saved successfully!\n"
     ]
    }
   ],
   "source": [
    "# Saving the  model & tokenizer\n",
    "model.save_pretrained(\"mental_health_chatbot_gpt2\")\n",
    "tokenizer.save_pretrained(\"mental_health_chatbot_gpt2\")\n",
    "\n",
    "print(\"Model and tokenizer saved successfully!\")"
   ]
  },
  {
   "cell_type": "code",
   "execution_count": 15,
   "metadata": {},
   "outputs": [
    {
     "name": "stderr",
     "output_type": "stream",
     "text": [
      "The attention mask is not set and cannot be inferred from input because pad token is same as eos token. As a consequence, you may observe unexpected behavior. Please pass your input's `attention_mask` to obtain reliable results.\n"
     ]
    },
    {
     "name": "stdout",
     "output_type": "stream",
     "text": [
      "Chatbot:  i am so sorry you are feeling down  i will admit that i am a little overwhelmed with emotions right now  i have been dealing with this since day one  i have been here first and im glad i did it was a big step at the time  now though i am going back to basics  basic eating can be hard but sometimes its not a physical need  if you are feeling down today then i\n",
      "Chatbot:  i recommend a balanced diet based on whole grains and fish fish fish oil and butter  most people seem to enjoy eating a balanced diet but i find that those with a high intake of saturated fat and sugar may be having a different reaction than those who do not  if you are concerned about your saturated fat and sugar intake try eating a balanced diet with fruits and vegetables and legumes  these will help you feel full and not have to worry\n"
     ]
    }
   ],
   "source": [
    "def chatbot_response(user_input):\n",
    "    user_input = clean_text(user_input)\n",
    "    input_text = user_input + \" [SEP]\"\n",
    "\n",
    "    # Tokenizig the input text\n",
    "    input_ids = tokenizer.encode(input_text, return_tensors=\"pt\")\n",
    "\n",
    "    # Moving the input_ids to the same device as the model\n",
    "    input_ids = input_ids.to(model.device)\n",
    "\n",
    "    # Generating our response\n",
    "    output = model.generate(input_ids, max_length=100, pad_token_id=tokenizer.eos_token_id)\n",
    "\n",
    "    # Decoding the generated response\n",
    "    response = tokenizer.decode(output[:, input_ids.shape[-1]:][0], skip_special_tokens=True)\n",
    "    return response\n",
    "\n",
    "# Testing our chatbot\n",
    "while True:\n",
    "    user_input = input(\"You: \")\n",
    "    if user_input.lower() == \"exit\":\n",
    "        break\n",
    "    response = chatbot_response(user_input)\n",
    "    print(f\"Chatbot: {response}\")\n"
   ]
  }
 ],
 "metadata": {
  "kernelspec": {
   "display_name": "Python 3",
   "language": "python",
   "name": "python3"
  },
  "language_info": {
   "codemirror_mode": {
    "name": "ipython",
    "version": 3
   },
   "file_extension": ".py",
   "mimetype": "text/x-python",
   "name": "python",
   "nbconvert_exporter": "python",
   "pygments_lexer": "ipython3",
   "version": "3.10.8"
  }
 },
 "nbformat": 4,
 "nbformat_minor": 2
}
